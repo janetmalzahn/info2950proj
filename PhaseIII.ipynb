{
 "cells": [
  {
   "cell_type": "markdown",
   "metadata": {},
   "source": [
    "# Preregistration of Analyses"
   ]
  },
  {
   "cell_type": "markdown",
   "metadata": {},
   "source": [
    "Janet Malzahn"
   ]
  },
  {
   "cell_type": "markdown",
   "metadata": {
    "tags": []
   },
   "source": [
    "## Analysis 1: Multivariate Regression for Simple Effect of Private School Density on Public School Performance"
   ]
  },
  {
   "cell_type": "markdown",
   "metadata": {},
   "source": [
    "For my first analysis, I plan to attempt to directly answer the research question of the effect of private school density on public school outcomes at the county level. For those unfamiliar with my data cleaning and description, public school density refers to the ratio of students enrolled in private schools grades 3-8 and To do this, I plan to run a multiple linear regression that predicts (relative) public school performance. I have consulted research from academic studies that I will cite in the final report to identify good covariates that might potentially confound our results (i.e. affect both public school outcomes and private school density). I will include the following covariates: \n",
    "- Private school density (our variable of interest)\n",
    "- Socio-economic status of the county\n",
    "- Total student enrollment in county (small counties vs. big counties)\n",
    "- Urban, suburban, town, or rural school percentages\n",
    "- State indicators\n",
    "\n",
    "This will provide a good first impression of how private school density affects public school outcomes, holding other factors constant."
   ]
  },
  {
   "cell_type": "markdown",
   "metadata": {},
   "source": [
    "## Analysis 2: Multivariate Regression with Racial Context for Effect of Private School Density on Public School Performance"
   ]
  },
  {
   "cell_type": "markdown",
   "metadata": {},
   "source": [
    "The above model is racially agnostic with respect to the predictor variables; however perhaps private schools have different effects given different racial compositions of the county. In this model, I incorporate the demographic features of the county into account in addition to the above racially agnostic measures. One serious limitation of this model is that I do not have data on the composition of the private schools - just their total enrollment. Therefore, I cannot get a breakdown of white students versus black students within the private schools, only the public schools. In this model, I include the above covariates along with:\n",
    " - Indicator for whether state was a member of the confederacy\n",
    " - Relative diversity index between schools white/black (a measure of white-black differences in exposure to white students within the pubilc school system)\n",
    " - Gap between SES composite of white families and black families\n",
    "I also will include interaction variables to see how the effects of private school density changes with these factors. \n",
    "\n",
    "This analysis will provide valuable information on how private schools affect public school performance given the racial environment of the county. "
   ]
  },
  {
   "cell_type": "markdown",
   "metadata": {},
   "source": [
    "## Analysis 3: Multivariate Regression for Effect of Public School Density and Racial Context on Public School Performance Race Gaps"
   ]
  },
  {
   "cell_type": "markdown",
   "metadata": {},
   "source": [
    "This model is the same as the above one except instead of looking on the effect of all of these things on public school performance, the outcome variable is now the gap in public school performance between black students and white students."
   ]
  },
  {
   "cell_type": "markdown",
   "metadata": {},
   "source": [
    "## Questions for Reviewers"
   ]
  },
  {
   "cell_type": "markdown",
   "metadata": {},
   "source": [
    "1. I'm not sure if you all are the same reviewers as for the previous phase (i.e. are familiar with my data and whole set up), but I'm trying to figure out if there are any non multivariate regressions types of analyses that I can perform on my data. I was considering looking at clustering to see if there were any clear clusters in the data, but that seems kind of under-developed and not well guided without a specific goal. Any ideas for extensions would be appreciated.\n",
    "2. I want to make sure that I have enough variables to reduce confounding effects, but also not too many that I overfit my data. Any advice in how to achieve this?\n",
    "3. An suggestions for regressions would be appreciated."
   ]
  }
 ],
 "metadata": {
  "kernelspec": {
   "display_name": "Python 3",
   "language": "python",
   "name": "python3"
  },
  "language_info": {
   "codemirror_mode": {
    "name": "ipython",
    "version": 3
   },
   "file_extension": ".py",
   "mimetype": "text/x-python",
   "name": "python",
   "nbconvert_exporter": "python",
   "pygments_lexer": "ipython3",
   "version": "3.9.2"
  }
 },
 "nbformat": 4,
 "nbformat_minor": 4
}
